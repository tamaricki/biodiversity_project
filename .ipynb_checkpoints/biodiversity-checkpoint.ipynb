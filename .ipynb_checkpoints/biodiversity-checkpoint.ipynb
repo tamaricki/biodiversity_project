{
 "cells": [
  {
   "cell_type": "markdown",
   "metadata": {},
   "source": [
    "\n",
    "# Biodiversity - Analysis of Protected Species - Project Introduction\n",
    "\n",
    "For this project, you will interpret data from the National Parks Service about endangered species in different parks.\n",
    "You will perform some data analysis on the conservation statuses of these species and investigate if there are any patterns or themes to the types of species that become endangered. During this project, you will analyze, clean up, and plot data as well as pose questions and seek to answer them in a meaningful way.\n",
    "\n",
    "after first analysis , some questions:\n",
    "- what is the conservation status of species in data? \n",
    "- check which species are in which park and their conservation status\n",
    "- check which park has most endangered and (species of concern) \n",
    "- which category has greatest percentage of endangered species\n",
    "\n",
    "\n",
    "    "
   ]
  },
  {
   "cell_type": "code",
   "execution_count": 3,
   "metadata": {},
   "outputs": [],
   "source": [
    "import pandas as pd\n",
    "import matplotlib.pyplot  as plt \n",
    "import seaborn as sns\n",
    "import numpy as np"
   ]
  },
  {
   "cell_type": "code",
   "execution_count": 4,
   "metadata": {},
   "outputs": [
    {
     "data": {
      "text/html": [
       "<div>\n",
       "<style scoped>\n",
       "    .dataframe tbody tr th:only-of-type {\n",
       "        vertical-align: middle;\n",
       "    }\n",
       "\n",
       "    .dataframe tbody tr th {\n",
       "        vertical-align: top;\n",
       "    }\n",
       "\n",
       "    .dataframe thead th {\n",
       "        text-align: right;\n",
       "    }\n",
       "</style>\n",
       "<table border=\"1\" class=\"dataframe\">\n",
       "  <thead>\n",
       "    <tr style=\"text-align: right;\">\n",
       "      <th></th>\n",
       "      <th>category</th>\n",
       "      <th>scientific_name</th>\n",
       "      <th>common_names</th>\n",
       "      <th>conservation_status</th>\n",
       "    </tr>\n",
       "  </thead>\n",
       "  <tbody>\n",
       "    <tr>\n",
       "      <th>0</th>\n",
       "      <td>Mammal</td>\n",
       "      <td>Clethrionomys gapperi gapperi</td>\n",
       "      <td>Gapper's Red-Backed Vole</td>\n",
       "      <td>NaN</td>\n",
       "    </tr>\n",
       "    <tr>\n",
       "      <th>1</th>\n",
       "      <td>Mammal</td>\n",
       "      <td>Bos bison</td>\n",
       "      <td>American Bison, Bison</td>\n",
       "      <td>NaN</td>\n",
       "    </tr>\n",
       "    <tr>\n",
       "      <th>2</th>\n",
       "      <td>Mammal</td>\n",
       "      <td>Bos taurus</td>\n",
       "      <td>Aurochs, Aurochs, Domestic Cattle (Feral), Dom...</td>\n",
       "      <td>NaN</td>\n",
       "    </tr>\n",
       "    <tr>\n",
       "      <th>3</th>\n",
       "      <td>Mammal</td>\n",
       "      <td>Ovis aries</td>\n",
       "      <td>Domestic Sheep, Mouflon, Red Sheep, Sheep (Feral)</td>\n",
       "      <td>NaN</td>\n",
       "    </tr>\n",
       "    <tr>\n",
       "      <th>4</th>\n",
       "      <td>Mammal</td>\n",
       "      <td>Cervus elaphus</td>\n",
       "      <td>Wapiti Or Elk</td>\n",
       "      <td>NaN</td>\n",
       "    </tr>\n",
       "  </tbody>\n",
       "</table>\n",
       "</div>"
      ],
      "text/plain": [
       "  category                scientific_name  \\\n",
       "0   Mammal  Clethrionomys gapperi gapperi   \n",
       "1   Mammal                      Bos bison   \n",
       "2   Mammal                     Bos taurus   \n",
       "3   Mammal                     Ovis aries   \n",
       "4   Mammal                 Cervus elaphus   \n",
       "\n",
       "                                        common_names conservation_status  \n",
       "0                           Gapper's Red-Backed Vole                 NaN  \n",
       "1                              American Bison, Bison                 NaN  \n",
       "2  Aurochs, Aurochs, Domestic Cattle (Feral), Dom...                 NaN  \n",
       "3  Domestic Sheep, Mouflon, Red Sheep, Sheep (Feral)                 NaN  \n",
       "4                                      Wapiti Or Elk                 NaN  "
      ]
     },
     "execution_count": 4,
     "metadata": {},
     "output_type": "execute_result"
    }
   ],
   "source": [
    "# load the files \n",
    "ob=pd.read_csv('observations.csv')\n",
    "sp=pd.read_csv('species_info.csv')\n",
    "sp.head()"
   ]
  },
  {
   "cell_type": "code",
   "execution_count": 5,
   "metadata": {},
   "outputs": [
    {
     "data": {
      "text/html": [
       "<div>\n",
       "<style scoped>\n",
       "    .dataframe tbody tr th:only-of-type {\n",
       "        vertical-align: middle;\n",
       "    }\n",
       "\n",
       "    .dataframe tbody tr th {\n",
       "        vertical-align: top;\n",
       "    }\n",
       "\n",
       "    .dataframe thead th {\n",
       "        text-align: right;\n",
       "    }\n",
       "</style>\n",
       "<table border=\"1\" class=\"dataframe\">\n",
       "  <thead>\n",
       "    <tr style=\"text-align: right;\">\n",
       "      <th></th>\n",
       "      <th>scientific_name</th>\n",
       "      <th>park_name</th>\n",
       "      <th>observations</th>\n",
       "    </tr>\n",
       "  </thead>\n",
       "  <tbody>\n",
       "    <tr>\n",
       "      <th>0</th>\n",
       "      <td>Vicia benghalensis</td>\n",
       "      <td>Great Smoky Mountains National Park</td>\n",
       "      <td>68</td>\n",
       "    </tr>\n",
       "    <tr>\n",
       "      <th>1</th>\n",
       "      <td>Neovison vison</td>\n",
       "      <td>Great Smoky Mountains National Park</td>\n",
       "      <td>77</td>\n",
       "    </tr>\n",
       "    <tr>\n",
       "      <th>2</th>\n",
       "      <td>Prunus subcordata</td>\n",
       "      <td>Yosemite National Park</td>\n",
       "      <td>138</td>\n",
       "    </tr>\n",
       "    <tr>\n",
       "      <th>3</th>\n",
       "      <td>Abutilon theophrasti</td>\n",
       "      <td>Bryce National Park</td>\n",
       "      <td>84</td>\n",
       "    </tr>\n",
       "    <tr>\n",
       "      <th>4</th>\n",
       "      <td>Githopsis specularioides</td>\n",
       "      <td>Great Smoky Mountains National Park</td>\n",
       "      <td>85</td>\n",
       "    </tr>\n",
       "  </tbody>\n",
       "</table>\n",
       "</div>"
      ],
      "text/plain": [
       "            scientific_name                            park_name  observations\n",
       "0        Vicia benghalensis  Great Smoky Mountains National Park            68\n",
       "1            Neovison vison  Great Smoky Mountains National Park            77\n",
       "2         Prunus subcordata               Yosemite National Park           138\n",
       "3      Abutilon theophrasti                  Bryce National Park            84\n",
       "4  Githopsis specularioides  Great Smoky Mountains National Park            85"
      ]
     },
     "execution_count": 5,
     "metadata": {},
     "output_type": "execute_result"
    }
   ],
   "source": [
    "ob.head()"
   ]
  },
  {
   "cell_type": "markdown",
   "metadata": {},
   "source": [
    "**Analysis of Species file**"
   ]
  },
  {
   "cell_type": "code",
   "execution_count": 7,
   "metadata": {},
   "outputs": [
    {
     "data": {
      "text/plain": [
       "category                  0\n",
       "scientific_name           0\n",
       "common_names              0\n",
       "conservation_status    5633\n",
       "dtype: int64"
      ]
     },
     "execution_count": 7,
     "metadata": {},
     "output_type": "execute_result"
    }
   ],
   "source": [
    "sp.isnull().sum()"
   ]
  },
  {
   "cell_type": "code",
   "execution_count": 7,
   "metadata": {},
   "outputs": [
    {
     "data": {
      "text/plain": [
       "(5824, 4)"
      ]
     },
     "execution_count": 7,
     "metadata": {},
     "output_type": "execute_result"
    }
   ],
   "source": [
    "sp.shape # a lof of data about 'conservation status are missing - or the species are not under protection. "
   ]
  },
  {
   "cell_type": "markdown",
   "metadata": {},
   "source": []
  },
  {
   "cell_type": "code",
   "execution_count": 9,
   "metadata": {},
   "outputs": [],
   "source": [
    "sp['common_name_clean'] = sp.common_names.apply(lambda x:(x.split(',')[0]))"
   ]
  },
  {
   "cell_type": "code",
   "execution_count": 10,
   "metadata": {},
   "outputs": [
    {
     "data": {
      "text/plain": [
       "5541"
      ]
     },
     "execution_count": 10,
     "metadata": {},
     "output_type": "execute_result"
    }
   ],
   "source": [
    "sp_unique = sp.drop_duplicates(subset=['scientific_name'])\n",
    "sp_unique.scientific_name.nunique()"
   ]
  },
  {
   "cell_type": "markdown",
   "metadata": {},
   "source": [
    "in Species file there are lot of NaN values for conservation status. Those species are not under conservation \n",
    "Values in common_name column are not standardized, there are a lot of duplicates. For that :\n",
    "- new column called common_name_clean is created and contains names which appear before ',' in common_name column\n",
    "\n",
    "- this will help us with the task which later on, to analyze the distribution of protected species in national parks. for that we need to merge table with species and conservation status with table containing observations in national parks . Merge can be done on column 'scientific_name' but before that in species table duplicates need to be removed. "
   ]
  },
  {
   "cell_type": "markdown",
   "metadata": {},
   "source": [
    "**Analysis of observation file**"
   ]
  },
  {
   "cell_type": "code",
   "execution_count": 11,
   "metadata": {},
   "outputs": [
    {
     "data": {
      "text/plain": [
       "scientific_name    0\n",
       "park_name          0\n",
       "observations       0\n",
       "dtype: int64"
      ]
     },
     "execution_count": 11,
     "metadata": {},
     "output_type": "execute_result"
    }
   ],
   "source": [
    "ob.isnull().sum()"
   ]
  },
  {
   "cell_type": "code",
   "execution_count": 12,
   "metadata": {},
   "outputs": [
    {
     "name": "stdout",
     "output_type": "stream",
     "text": [
      "List of parks in dataset: ['Great Smoky Mountains National Park' 'Yosemite National Park'\n",
      " 'Bryce National Park' 'Yellowstone National Park']\n"
     ]
    }
   ],
   "source": [
    "print(f\"List of parks in dataset: {ob.park_name.unique()}\") "
   ]
  },
  {
   "cell_type": "code",
   "execution_count": 13,
   "metadata": {},
   "outputs": [
    {
     "name": "stdout",
     "output_type": "stream",
     "text": [
      "Number of rows and columns in observations dataframe: (23296, 3)\n"
     ]
    }
   ],
   "source": [
    "print(f\"Number of rows and columns in observations dataframe: {ob.shape}\")"
   ]
  },
  {
   "cell_type": "markdown",
   "metadata": {},
   "source": [
    "Merge of species and observation dataframe on scientific_name column. \n"
   ]
  },
  {
   "cell_type": "code",
   "execution_count": 14,
   "metadata": {},
   "outputs": [],
   "source": [
    " \n",
    "ob_sp = pd.merge(left=ob, right=sp_unique, left_on='scientific_name', right_on='scientific_name', how='right')"
   ]
  },
  {
   "cell_type": "code",
   "execution_count": 15,
   "metadata": {},
   "outputs": [
    {
     "data": {
      "text/html": [
       "<div>\n",
       "<style scoped>\n",
       "    .dataframe tbody tr th:only-of-type {\n",
       "        vertical-align: middle;\n",
       "    }\n",
       "\n",
       "    .dataframe tbody tr th {\n",
       "        vertical-align: top;\n",
       "    }\n",
       "\n",
       "    .dataframe thead th {\n",
       "        text-align: right;\n",
       "    }\n",
       "</style>\n",
       "<table border=\"1\" class=\"dataframe\">\n",
       "  <thead>\n",
       "    <tr style=\"text-align: right;\">\n",
       "      <th></th>\n",
       "      <th>scientific_name</th>\n",
       "      <th>park_name</th>\n",
       "      <th>observations</th>\n",
       "      <th>category</th>\n",
       "      <th>common_names</th>\n",
       "      <th>conservation_status</th>\n",
       "      <th>common_name_clean</th>\n",
       "    </tr>\n",
       "  </thead>\n",
       "  <tbody>\n",
       "    <tr>\n",
       "      <th>0</th>\n",
       "      <td>Clethrionomys gapperi gapperi</td>\n",
       "      <td>Bryce National Park</td>\n",
       "      <td>130</td>\n",
       "      <td>Mammal</td>\n",
       "      <td>Gapper's Red-Backed Vole</td>\n",
       "      <td>NaN</td>\n",
       "      <td>Gapper's Red-Backed Vole</td>\n",
       "    </tr>\n",
       "    <tr>\n",
       "      <th>1</th>\n",
       "      <td>Clethrionomys gapperi gapperi</td>\n",
       "      <td>Yellowstone National Park</td>\n",
       "      <td>270</td>\n",
       "      <td>Mammal</td>\n",
       "      <td>Gapper's Red-Backed Vole</td>\n",
       "      <td>NaN</td>\n",
       "      <td>Gapper's Red-Backed Vole</td>\n",
       "    </tr>\n",
       "    <tr>\n",
       "      <th>2</th>\n",
       "      <td>Clethrionomys gapperi gapperi</td>\n",
       "      <td>Great Smoky Mountains National Park</td>\n",
       "      <td>98</td>\n",
       "      <td>Mammal</td>\n",
       "      <td>Gapper's Red-Backed Vole</td>\n",
       "      <td>NaN</td>\n",
       "      <td>Gapper's Red-Backed Vole</td>\n",
       "    </tr>\n",
       "    <tr>\n",
       "      <th>3</th>\n",
       "      <td>Clethrionomys gapperi gapperi</td>\n",
       "      <td>Yosemite National Park</td>\n",
       "      <td>117</td>\n",
       "      <td>Mammal</td>\n",
       "      <td>Gapper's Red-Backed Vole</td>\n",
       "      <td>NaN</td>\n",
       "      <td>Gapper's Red-Backed Vole</td>\n",
       "    </tr>\n",
       "    <tr>\n",
       "      <th>4</th>\n",
       "      <td>Bos bison</td>\n",
       "      <td>Yosemite National Park</td>\n",
       "      <td>128</td>\n",
       "      <td>Mammal</td>\n",
       "      <td>American Bison, Bison</td>\n",
       "      <td>NaN</td>\n",
       "      <td>American Bison</td>\n",
       "    </tr>\n",
       "  </tbody>\n",
       "</table>\n",
       "</div>"
      ],
      "text/plain": [
       "                 scientific_name                            park_name  \\\n",
       "0  Clethrionomys gapperi gapperi                  Bryce National Park   \n",
       "1  Clethrionomys gapperi gapperi            Yellowstone National Park   \n",
       "2  Clethrionomys gapperi gapperi  Great Smoky Mountains National Park   \n",
       "3  Clethrionomys gapperi gapperi               Yosemite National Park   \n",
       "4                      Bos bison               Yosemite National Park   \n",
       "\n",
       "   observations category              common_names conservation_status  \\\n",
       "0           130   Mammal  Gapper's Red-Backed Vole                 NaN   \n",
       "1           270   Mammal  Gapper's Red-Backed Vole                 NaN   \n",
       "2            98   Mammal  Gapper's Red-Backed Vole                 NaN   \n",
       "3           117   Mammal  Gapper's Red-Backed Vole                 NaN   \n",
       "4           128   Mammal     American Bison, Bison                 NaN   \n",
       "\n",
       "          common_name_clean  \n",
       "0  Gapper's Red-Backed Vole  \n",
       "1  Gapper's Red-Backed Vole  \n",
       "2  Gapper's Red-Backed Vole  \n",
       "3  Gapper's Red-Backed Vole  \n",
       "4            American Bison  "
      ]
     },
     "execution_count": 15,
     "metadata": {},
     "output_type": "execute_result"
    }
   ],
   "source": [
    "ob_sp.head()"
   ]
  },
  {
   "cell_type": "code",
   "execution_count": 16,
   "metadata": {},
   "outputs": [
    {
     "data": {
      "text/plain": [
       "scientific_name            0\n",
       "park_name                  0\n",
       "observations               0\n",
       "category                   0\n",
       "common_names               0\n",
       "conservation_status    22536\n",
       "common_name_clean          0\n",
       "dtype: int64"
      ]
     },
     "execution_count": 16,
     "metadata": {},
     "output_type": "execute_result"
    }
   ],
   "source": [
    "ob_sp.isnull().sum()"
   ]
  },
  {
   "cell_type": "code",
   "execution_count": 17,
   "metadata": {},
   "outputs": [
    {
     "data": {
      "text/plain": [
       "163072"
      ]
     },
     "execution_count": 17,
     "metadata": {},
     "output_type": "execute_result"
    }
   ],
   "source": [
    "ob_sp.size"
   ]
  },
  {
   "cell_type": "markdown",
   "metadata": {},
   "source": [
    "**Analysis of Distribution of Species which have Conservation Status**"
   ]
  },
  {
   "cell_type": "code",
   "execution_count": 18,
   "metadata": {},
   "outputs": [
    {
     "data": {
      "text/html": [
       "<div>\n",
       "<style scoped>\n",
       "    .dataframe tbody tr th:only-of-type {\n",
       "        vertical-align: middle;\n",
       "    }\n",
       "\n",
       "    .dataframe tbody tr th {\n",
       "        vertical-align: top;\n",
       "    }\n",
       "\n",
       "    .dataframe thead th {\n",
       "        text-align: right;\n",
       "    }\n",
       "</style>\n",
       "<table border=\"1\" class=\"dataframe\">\n",
       "  <thead>\n",
       "    <tr style=\"text-align: right;\">\n",
       "      <th></th>\n",
       "      <th>category</th>\n",
       "      <th>scientific_name</th>\n",
       "      <th>common_names</th>\n",
       "      <th>conservation_status</th>\n",
       "      <th>common_name_clean</th>\n",
       "    </tr>\n",
       "  </thead>\n",
       "  <tbody>\n",
       "    <tr>\n",
       "      <th>7</th>\n",
       "      <td>Mammal</td>\n",
       "      <td>Canis latrans</td>\n",
       "      <td>Coyote</td>\n",
       "      <td>Species of Concern</td>\n",
       "      <td>Coyote</td>\n",
       "    </tr>\n",
       "    <tr>\n",
       "      <th>8</th>\n",
       "      <td>Mammal</td>\n",
       "      <td>Canis lupus</td>\n",
       "      <td>Gray Wolf</td>\n",
       "      <td>Endangered</td>\n",
       "      <td>Gray Wolf</td>\n",
       "    </tr>\n",
       "    <tr>\n",
       "      <th>9</th>\n",
       "      <td>Mammal</td>\n",
       "      <td>Canis rufus</td>\n",
       "      <td>Red Wolf</td>\n",
       "      <td>Endangered</td>\n",
       "      <td>Red Wolf</td>\n",
       "    </tr>\n",
       "    <tr>\n",
       "      <th>29</th>\n",
       "      <td>Mammal</td>\n",
       "      <td>Eptesicus fuscus</td>\n",
       "      <td>Big Brown Bat</td>\n",
       "      <td>Species of Concern</td>\n",
       "      <td>Big Brown Bat</td>\n",
       "    </tr>\n",
       "    <tr>\n",
       "      <th>30</th>\n",
       "      <td>Mammal</td>\n",
       "      <td>Lasionycteris noctivagans</td>\n",
       "      <td>Silver-Haired Bat</td>\n",
       "      <td>Species of Concern</td>\n",
       "      <td>Silver-Haired Bat</td>\n",
       "    </tr>\n",
       "  </tbody>\n",
       "</table>\n",
       "</div>"
      ],
      "text/plain": [
       "   category            scientific_name       common_names conservation_status  \\\n",
       "7    Mammal              Canis latrans             Coyote  Species of Concern   \n",
       "8    Mammal                Canis lupus          Gray Wolf          Endangered   \n",
       "9    Mammal                Canis rufus           Red Wolf          Endangered   \n",
       "29   Mammal           Eptesicus fuscus      Big Brown Bat  Species of Concern   \n",
       "30   Mammal  Lasionycteris noctivagans  Silver-Haired Bat  Species of Concern   \n",
       "\n",
       "    common_name_clean  \n",
       "7              Coyote  \n",
       "8           Gray Wolf  \n",
       "9            Red Wolf  \n",
       "29      Big Brown Bat  \n",
       "30  Silver-Haired Bat  "
      ]
     },
     "execution_count": 18,
     "metadata": {},
     "output_type": "execute_result"
    }
   ],
   "source": [
    "#do graph only with species dataframe\n",
    "conservation_status=sp.dropna()\n",
    "conservation_status.head()\n",
    "\n"
   ]
  },
  {
   "cell_type": "code",
   "execution_count": 19,
   "metadata": {},
   "outputs": [
    {
     "data": {
      "text/html": [
       "<div>\n",
       "<style scoped>\n",
       "    .dataframe tbody tr th:only-of-type {\n",
       "        vertical-align: middle;\n",
       "    }\n",
       "\n",
       "    .dataframe tbody tr th {\n",
       "        vertical-align: top;\n",
       "    }\n",
       "\n",
       "    .dataframe thead th {\n",
       "        text-align: right;\n",
       "    }\n",
       "</style>\n",
       "<table border=\"1\" class=\"dataframe\">\n",
       "  <thead>\n",
       "    <tr style=\"text-align: right;\">\n",
       "      <th>category</th>\n",
       "      <th>Amphibian</th>\n",
       "      <th>Bird</th>\n",
       "      <th>Fish</th>\n",
       "      <th>Mammal</th>\n",
       "      <th>Nonvascular Plant</th>\n",
       "      <th>Reptile</th>\n",
       "      <th>Vascular Plant</th>\n",
       "    </tr>\n",
       "    <tr>\n",
       "      <th>conservation_status</th>\n",
       "      <th></th>\n",
       "      <th></th>\n",
       "      <th></th>\n",
       "      <th></th>\n",
       "      <th></th>\n",
       "      <th></th>\n",
       "      <th></th>\n",
       "    </tr>\n",
       "  </thead>\n",
       "  <tbody>\n",
       "    <tr>\n",
       "      <th>Endangered</th>\n",
       "      <td>1.0</td>\n",
       "      <td>4.0</td>\n",
       "      <td>3.0</td>\n",
       "      <td>7.0</td>\n",
       "      <td>0.0</td>\n",
       "      <td>0.0</td>\n",
       "      <td>1.0</td>\n",
       "    </tr>\n",
       "    <tr>\n",
       "      <th>In Recovery</th>\n",
       "      <td>0.0</td>\n",
       "      <td>3.0</td>\n",
       "      <td>0.0</td>\n",
       "      <td>1.0</td>\n",
       "      <td>0.0</td>\n",
       "      <td>0.0</td>\n",
       "      <td>0.0</td>\n",
       "    </tr>\n",
       "    <tr>\n",
       "      <th>Species of Concern</th>\n",
       "      <td>4.0</td>\n",
       "      <td>72.0</td>\n",
       "      <td>4.0</td>\n",
       "      <td>28.0</td>\n",
       "      <td>5.0</td>\n",
       "      <td>5.0</td>\n",
       "      <td>43.0</td>\n",
       "    </tr>\n",
       "    <tr>\n",
       "      <th>Threatened</th>\n",
       "      <td>2.0</td>\n",
       "      <td>0.0</td>\n",
       "      <td>4.0</td>\n",
       "      <td>2.0</td>\n",
       "      <td>0.0</td>\n",
       "      <td>0.0</td>\n",
       "      <td>2.0</td>\n",
       "    </tr>\n",
       "  </tbody>\n",
       "</table>\n",
       "</div>"
      ],
      "text/plain": [
       "category             Amphibian  Bird  Fish  Mammal  Nonvascular Plant  \\\n",
       "conservation_status                                                     \n",
       "Endangered                 1.0   4.0   3.0     7.0                0.0   \n",
       "In Recovery                0.0   3.0   0.0     1.0                0.0   \n",
       "Species of Concern         4.0  72.0   4.0    28.0                5.0   \n",
       "Threatened                 2.0   0.0   4.0     2.0                0.0   \n",
       "\n",
       "category             Reptile  Vascular Plant  \n",
       "conservation_status                           \n",
       "Endangered               0.0             1.0  \n",
       "In Recovery              0.0             0.0  \n",
       "Species of Concern       5.0            43.0  \n",
       "Threatened               0.0             2.0  "
      ]
     },
     "execution_count": 19,
     "metadata": {},
     "output_type": "execute_result"
    }
   ],
   "source": [
    "con_status =conservation_status[['category', 'conservation_status']]\n",
    "con_status.head()\n",
    "con_status_counts = (con_status.value_counts()).unstack(level=0)\n",
    "cs_table = con_status_counts.fillna(0)\n",
    "cs_table"
   ]
  },
  {
   "cell_type": "code",
   "execution_count": 20,
   "metadata": {},
   "outputs": [
    {
     "data": {
      "text/plain": [
       "Text(0.5, 1.0, 'Conservation Status per Species Category')"
      ]
     },
     "execution_count": 20,
     "metadata": {},
     "output_type": "execute_result"
    },
    {
     "data": {
      "image/png": "[encoded data removed]",
      "text/plain": [
       "<Figure size 720x576 with 1 Axes>"
      ]
     },
     "metadata": {
      "needs_background": "light"
     },
     "output_type": "display_data"
    }
   ],
   "source": [
    "ax = cs_table.plot(kind='barh', figsize = (10,8), stacked=True )\n",
    "ax.set_xlabel('Distribution of Species with Conservation Status')\n",
    "ax.set_ylabel('Stages of Conservation Status')\n",
    "ax.set_title('Conservation Status per Species Category')"
   ]
  },
  {
   "cell_type": "markdown",
   "metadata": {},
   "source": [
    "From Graph is visible that :\n",
    "- Birds, Mammals and Vascular plants are top 3 species of concern\n",
    "- Birds and Mammals species are also in endangered group of species\n",
    "- Only birds and mammals are present in group of species in recovery "
   ]
  },
  {
   "cell_type": "markdown",
   "metadata": {},
   "source": [
    "Let's check what is the portion of protected and not protected species and \n",
    "check which protected species are seen in which park?\n",
    "for that we will use merged data frame ob_sp.\n",
    "- we will calculate the total proportion of protected and unprotected species in datasets\n",
    "-calculate the proportion of protected and not protected species per species category \n",
    "-analyze the distrubtion of top two most protected species in national parks in last 7 days \n"
   ]
  },
  {
   "cell_type": "code",
   "execution_count": 117,
   "metadata": {},
   "outputs": [
    {
     "data": {
      "text/plain": [
       "5504"
      ]
     },
     "execution_count": 117,
     "metadata": {},
     "output_type": "execute_result"
    }
   ],
   "source": [
    "sp.common_names.nunique()"
   ]
  },
  {
   "cell_type": "code",
   "execution_count": 21,
   "metadata": {},
   "outputs": [
    {
     "data": {
      "text/html": [
       "<div>\n",
       "<style scoped>\n",
       "    .dataframe tbody tr th:only-of-type {\n",
       "        vertical-align: middle;\n",
       "    }\n",
       "\n",
       "    .dataframe tbody tr th {\n",
       "        vertical-align: top;\n",
       "    }\n",
       "\n",
       "    .dataframe thead th {\n",
       "        text-align: right;\n",
       "    }\n",
       "</style>\n",
       "<table border=\"1\" class=\"dataframe\">\n",
       "  <thead>\n",
       "    <tr style=\"text-align: right;\">\n",
       "      <th></th>\n",
       "      <th>scientific_name</th>\n",
       "      <th>park_name</th>\n",
       "      <th>observations</th>\n",
       "      <th>category</th>\n",
       "      <th>common_names</th>\n",
       "      <th>conservation_status</th>\n",
       "      <th>common_name_clean</th>\n",
       "    </tr>\n",
       "  </thead>\n",
       "  <tbody>\n",
       "    <tr>\n",
       "      <th>0</th>\n",
       "      <td>Clethrionomys gapperi gapperi</td>\n",
       "      <td>Bryce National Park</td>\n",
       "      <td>130</td>\n",
       "      <td>Mammal</td>\n",
       "      <td>Gapper's Red-Backed Vole</td>\n",
       "      <td>Not Protected</td>\n",
       "      <td>Gapper's Red-Backed Vole</td>\n",
       "    </tr>\n",
       "    <tr>\n",
       "      <th>1</th>\n",
       "      <td>Clethrionomys gapperi gapperi</td>\n",
       "      <td>Yellowstone National Park</td>\n",
       "      <td>270</td>\n",
       "      <td>Mammal</td>\n",
       "      <td>Gapper's Red-Backed Vole</td>\n",
       "      <td>Not Protected</td>\n",
       "      <td>Gapper's Red-Backed Vole</td>\n",
       "    </tr>\n",
       "    <tr>\n",
       "      <th>2</th>\n",
       "      <td>Clethrionomys gapperi gapperi</td>\n",
       "      <td>Great Smoky Mountains National Park</td>\n",
       "      <td>98</td>\n",
       "      <td>Mammal</td>\n",
       "      <td>Gapper's Red-Backed Vole</td>\n",
       "      <td>Not Protected</td>\n",
       "      <td>Gapper's Red-Backed Vole</td>\n",
       "    </tr>\n",
       "    <tr>\n",
       "      <th>3</th>\n",
       "      <td>Clethrionomys gapperi gapperi</td>\n",
       "      <td>Yosemite National Park</td>\n",
       "      <td>117</td>\n",
       "      <td>Mammal</td>\n",
       "      <td>Gapper's Red-Backed Vole</td>\n",
       "      <td>Not Protected</td>\n",
       "      <td>Gapper's Red-Backed Vole</td>\n",
       "    </tr>\n",
       "    <tr>\n",
       "      <th>4</th>\n",
       "      <td>Bos bison</td>\n",
       "      <td>Yosemite National Park</td>\n",
       "      <td>128</td>\n",
       "      <td>Mammal</td>\n",
       "      <td>American Bison, Bison</td>\n",
       "      <td>Not Protected</td>\n",
       "      <td>American Bison</td>\n",
       "    </tr>\n",
       "  </tbody>\n",
       "</table>\n",
       "</div>"
      ],
      "text/plain": [
       "                 scientific_name                            park_name  \\\n",
       "0  Clethrionomys gapperi gapperi                  Bryce National Park   \n",
       "1  Clethrionomys gapperi gapperi            Yellowstone National Park   \n",
       "2  Clethrionomys gapperi gapperi  Great Smoky Mountains National Park   \n",
       "3  Clethrionomys gapperi gapperi               Yosemite National Park   \n",
       "4                      Bos bison               Yosemite National Park   \n",
       "\n",
       "   observations category              common_names conservation_status  \\\n",
       "0           130   Mammal  Gapper's Red-Backed Vole       Not Protected   \n",
       "1           270   Mammal  Gapper's Red-Backed Vole       Not Protected   \n",
       "2            98   Mammal  Gapper's Red-Backed Vole       Not Protected   \n",
       "3           117   Mammal  Gapper's Red-Backed Vole       Not Protected   \n",
       "4           128   Mammal     American Bison, Bison       Not Protected   \n",
       "\n",
       "          common_name_clean  \n",
       "0  Gapper's Red-Backed Vole  \n",
       "1  Gapper's Red-Backed Vole  \n",
       "2  Gapper's Red-Backed Vole  \n",
       "3  Gapper's Red-Backed Vole  \n",
       "4            American Bison  "
      ]
     },
     "execution_count": 21,
     "metadata": {},
     "output_type": "execute_result"
    }
   ],
   "source": [
    "ob_sp.fillna('Not Protected', inplace=True)\n",
    "ob_sp.head()"
   ]
  },
  {
   "cell_type": "code",
   "execution_count": 22,
   "metadata": {},
   "outputs": [
    {
     "data": {
      "text/html": [
       "<div>\n",
       "<style scoped>\n",
       "    .dataframe tbody tr th:only-of-type {\n",
       "        vertical-align: middle;\n",
       "    }\n",
       "\n",
       "    .dataframe tbody tr th {\n",
       "        vertical-align: top;\n",
       "    }\n",
       "\n",
       "    .dataframe thead th {\n",
       "        text-align: right;\n",
       "    }\n",
       "</style>\n",
       "<table border=\"1\" class=\"dataframe\">\n",
       "  <thead>\n",
       "    <tr style=\"text-align: right;\">\n",
       "      <th></th>\n",
       "      <th>scientific_name</th>\n",
       "      <th>park_name</th>\n",
       "      <th>observations</th>\n",
       "      <th>category</th>\n",
       "      <th>common_names</th>\n",
       "      <th>conservation_status</th>\n",
       "      <th>common_name_clean</th>\n",
       "      <th>is_protected</th>\n",
       "    </tr>\n",
       "  </thead>\n",
       "  <tbody>\n",
       "    <tr>\n",
       "      <th>0</th>\n",
       "      <td>Clethrionomys gapperi gapperi</td>\n",
       "      <td>Bryce National Park</td>\n",
       "      <td>130</td>\n",
       "      <td>Mammal</td>\n",
       "      <td>Gapper's Red-Backed Vole</td>\n",
       "      <td>Not Protected</td>\n",
       "      <td>Gapper's Red-Backed Vole</td>\n",
       "      <td>False</td>\n",
       "    </tr>\n",
       "    <tr>\n",
       "      <th>1</th>\n",
       "      <td>Clethrionomys gapperi gapperi</td>\n",
       "      <td>Yellowstone National Park</td>\n",
       "      <td>270</td>\n",
       "      <td>Mammal</td>\n",
       "      <td>Gapper's Red-Backed Vole</td>\n",
       "      <td>Not Protected</td>\n",
       "      <td>Gapper's Red-Backed Vole</td>\n",
       "      <td>False</td>\n",
       "    </tr>\n",
       "    <tr>\n",
       "      <th>2</th>\n",
       "      <td>Clethrionomys gapperi gapperi</td>\n",
       "      <td>Great Smoky Mountains National Park</td>\n",
       "      <td>98</td>\n",
       "      <td>Mammal</td>\n",
       "      <td>Gapper's Red-Backed Vole</td>\n",
       "      <td>Not Protected</td>\n",
       "      <td>Gapper's Red-Backed Vole</td>\n",
       "      <td>False</td>\n",
       "    </tr>\n",
       "    <tr>\n",
       "      <th>3</th>\n",
       "      <td>Clethrionomys gapperi gapperi</td>\n",
       "      <td>Yosemite National Park</td>\n",
       "      <td>117</td>\n",
       "      <td>Mammal</td>\n",
       "      <td>Gapper's Red-Backed Vole</td>\n",
       "      <td>Not Protected</td>\n",
       "      <td>Gapper's Red-Backed Vole</td>\n",
       "      <td>False</td>\n",
       "    </tr>\n",
       "    <tr>\n",
       "      <th>4</th>\n",
       "      <td>Bos bison</td>\n",
       "      <td>Yosemite National Park</td>\n",
       "      <td>128</td>\n",
       "      <td>Mammal</td>\n",
       "      <td>American Bison, Bison</td>\n",
       "      <td>Not Protected</td>\n",
       "      <td>American Bison</td>\n",
       "      <td>False</td>\n",
       "    </tr>\n",
       "  </tbody>\n",
       "</table>\n",
       "</div>"
      ],
      "text/plain": [
       "                 scientific_name                            park_name  \\\n",
       "0  Clethrionomys gapperi gapperi                  Bryce National Park   \n",
       "1  Clethrionomys gapperi gapperi            Yellowstone National Park   \n",
       "2  Clethrionomys gapperi gapperi  Great Smoky Mountains National Park   \n",
       "3  Clethrionomys gapperi gapperi               Yosemite National Park   \n",
       "4                      Bos bison               Yosemite National Park   \n",
       "\n",
       "   observations category              common_names conservation_status  \\\n",
       "0           130   Mammal  Gapper's Red-Backed Vole       Not Protected   \n",
       "1           270   Mammal  Gapper's Red-Backed Vole       Not Protected   \n",
       "2            98   Mammal  Gapper's Red-Backed Vole       Not Protected   \n",
       "3           117   Mammal  Gapper's Red-Backed Vole       Not Protected   \n",
       "4           128   Mammal     American Bison, Bison       Not Protected   \n",
       "\n",
       "          common_name_clean  is_protected  \n",
       "0  Gapper's Red-Backed Vole         False  \n",
       "1  Gapper's Red-Backed Vole         False  \n",
       "2  Gapper's Red-Backed Vole         False  \n",
       "3  Gapper's Red-Backed Vole         False  \n",
       "4            American Bison         False  "
      ]
     },
     "execution_count": 22,
     "metadata": {},
     "output_type": "execute_result"
    }
   ],
   "source": [
    "mapping = {'Not Protected':False, 'Endangered':True, 'Species of Concern':True, 'Threatened':True, 'In Recovery':True }\n",
    "ob_sp['is_protected'] = ob_sp.conservation_status.map(mapping)\n",
    "ob_sp.head()"
   ]
  },
  {
   "cell_type": "code",
   "execution_count": 23,
   "metadata": {},
   "outputs": [
    {
     "name": "stdout",
     "output_type": "stream",
     "text": [
      "From total sample only 3.26 percent of species are under protection\n"
     ]
    }
   ],
   "source": [
    "#portion of species wich are under protection\n",
    "protected = ob_sp.is_protected.mean()\n",
    "print(\"From total sample only \"+str(round((protected*100),2)) + \" percent of species are under protection\")"
   ]
  },
  {
   "cell_type": "markdown",
   "metadata": {},
   "source": [
    "**Percentage of Protected Species per Category** "
   ]
  },
  {
   "cell_type": "code",
   "execution_count": 25,
   "metadata": {},
   "outputs": [
    {
     "data": {
      "text/html": [
       "<div>\n",
       "<style scoped>\n",
       "    .dataframe tbody tr th:only-of-type {\n",
       "        vertical-align: middle;\n",
       "    }\n",
       "\n",
       "    .dataframe tbody tr th {\n",
       "        vertical-align: top;\n",
       "    }\n",
       "\n",
       "    .dataframe thead th {\n",
       "        text-align: right;\n",
       "    }\n",
       "</style>\n",
       "<table border=\"1\" class=\"dataframe\">\n",
       "  <thead>\n",
       "    <tr style=\"text-align: right;\">\n",
       "      <th></th>\n",
       "      <th>category</th>\n",
       "      <th>not_protected</th>\n",
       "      <th>protected</th>\n",
       "      <th>percentage_protected</th>\n",
       "    </tr>\n",
       "  </thead>\n",
       "  <tbody>\n",
       "    <tr>\n",
       "      <th>0</th>\n",
       "      <td>Amphibian</td>\n",
       "      <td>72</td>\n",
       "      <td>7</td>\n",
       "      <td>8.860759</td>\n",
       "    </tr>\n",
       "    <tr>\n",
       "      <th>1</th>\n",
       "      <td>Bird</td>\n",
       "      <td>413</td>\n",
       "      <td>75</td>\n",
       "      <td>15.368852</td>\n",
       "    </tr>\n",
       "    <tr>\n",
       "      <th>2</th>\n",
       "      <td>Fish</td>\n",
       "      <td>115</td>\n",
       "      <td>10</td>\n",
       "      <td>8.000000</td>\n",
       "    </tr>\n",
       "    <tr>\n",
       "      <th>3</th>\n",
       "      <td>Mammal</td>\n",
       "      <td>146</td>\n",
       "      <td>30</td>\n",
       "      <td>17.045455</td>\n",
       "    </tr>\n",
       "    <tr>\n",
       "      <th>4</th>\n",
       "      <td>Nonvascular Plant</td>\n",
       "      <td>328</td>\n",
       "      <td>5</td>\n",
       "      <td>1.501502</td>\n",
       "    </tr>\n",
       "    <tr>\n",
       "      <th>5</th>\n",
       "      <td>Reptile</td>\n",
       "      <td>73</td>\n",
       "      <td>5</td>\n",
       "      <td>6.410256</td>\n",
       "    </tr>\n",
       "    <tr>\n",
       "      <th>6</th>\n",
       "      <td>Vascular Plant</td>\n",
       "      <td>4216</td>\n",
       "      <td>46</td>\n",
       "      <td>1.079305</td>\n",
       "    </tr>\n",
       "  </tbody>\n",
       "</table>\n",
       "</div>"
      ],
      "text/plain": [
       "            category  not_protected  protected  percentage_protected\n",
       "0          Amphibian             72          7              8.860759\n",
       "1               Bird            413         75             15.368852\n",
       "2               Fish            115         10              8.000000\n",
       "3             Mammal            146         30             17.045455\n",
       "4  Nonvascular Plant            328          5              1.501502\n",
       "5            Reptile             73          5              6.410256\n",
       "6     Vascular Plant           4216         46              1.079305"
      ]
     },
     "execution_count": 25,
     "metadata": {},
     "output_type": "execute_result"
    }
   ],
   "source": [
    "# check percentage or protected and not protected species per category \n",
    "cat_status = (ob_sp.groupby(['category', 'is_protected']).scientific_name.nunique()).reset_index()\n",
    "cat_sta=(cat_status.pivot(columns= 'is_protected', index='category', values='scientific_name')).reset_index()\n",
    "cat_sta.columns =['category', 'not_protected', 'protected'] #not with rename but like this . pivot to move values of one column to columns!\n",
    "cat_sta['percentage_protected'] = (cat_sta.protected / (cat_sta.protected + cat_sta.not_protected))*100\n",
    "cat_sta\n",
    "\n",
    "\n"
   ]
  },
  {
   "cell_type": "markdown",
   "metadata": {},
   "source": [
    "Top tree categories with biggest percent of protected species are Mammal, Bird and Amphibian. Following to be checked:\n",
    "- Distribution of Protected Species in National Parks \n",
    "- Observations of  protected mammal and bird categores in national parks in last 7 days "
   ]
  },
  {
   "cell_type": "markdown",
   "metadata": {},
   "source": [
    "**Distribution of Protected Species in National Parks**"
   ]
  },
  {
   "cell_type": "code",
   "execution_count": 26,
   "metadata": {},
   "outputs": [
    {
     "data": {
      "text/plain": [
       "park_name\n",
       "Bryce National Park                    16099\n",
       "Great Smoky Mountains National Park    11177\n",
       "Yellowstone National Park              38663\n",
       "Yosemite National Park                 23356\n",
       "Name: observations, dtype: int64"
      ]
     },
     "execution_count": 26,
     "metadata": {},
     "output_type": "execute_result"
    }
   ],
   "source": [
    "parks_distribution= ob_sp[ob_sp['conservation_status']!='Not Protected'].groupby('park_name').observations.sum()\n",
    "parks_distribution"
   ]
  },
  {
   "cell_type": "code",
   "execution_count": 27,
   "metadata": {},
   "outputs": [
    {
     "data": {
      "text/plain": [
       "Text(0.5, 1.0, 'Distribution of Observed Protected Species in Last 7 days in National Parks')"
      ]
     },
     "execution_count": 27,
     "metadata": {},
     "output_type": "execute_result"
    },
    {
     "data": {
      "image/png": "[encoded data removed]",
      "text/plain": [
       "<Figure size 576x576 with 1 Axes>"
      ]
     },
     "metadata": {},
     "output_type": "display_data"
    }
   ],
   "source": [
    "fig, ax= plt.subplots(figsize=(8,8))\n",
    "labels = parks_distribution.keys()\n",
    "plt.pie(x = parks_distribution, autopct='%.1f%%', labels=labels, )\n",
    "plt.title('Distribution of Observed Protected Species in Last 7 days in National Parks', fontsize = 14)"
   ]
  },
  {
   "cell_type": "markdown",
   "metadata": {},
   "source": [
    "**Observations of Mamal and Bird Species in National Parks in last Seven Days**"
   ]
  },
  {
   "cell_type": "code",
   "execution_count": 28,
   "metadata": {},
   "outputs": [
    {
     "data": {
      "text/plain": [
       "(152, 4)"
      ]
     },
     "execution_count": 28,
     "metadata": {},
     "output_type": "execute_result"
    }
   ],
   "source": [
    "mammal_park = ob_sp[(ob_sp['category']=='Mammal') & (ob_sp['is_protected']==True)][['common_name_clean','scientific_name', 'park_name', 'observations']]\n",
    "mammal_park.shape"
   ]
  },
  {
   "cell_type": "code",
   "execution_count": 29,
   "metadata": {},
   "outputs": [],
   "source": [
    "mammal_grouped = mammal_park.groupby(['scientific_name', 'common_name_clean', 'park_name']).observations.sum().reset_index()"
   ]
  },
  {
   "cell_type": "code",
   "execution_count": 59,
   "metadata": {},
   "outputs": [
    {
     "data": {
      "text/html": [
       "<div>\n",
       "<style scoped>\n",
       "    .dataframe tbody tr th:only-of-type {\n",
       "        vertical-align: middle;\n",
       "    }\n",
       "\n",
       "    .dataframe tbody tr th {\n",
       "        vertical-align: top;\n",
       "    }\n",
       "\n",
       "    .dataframe thead th {\n",
       "        text-align: right;\n",
       "    }\n",
       "</style>\n",
       "<table border=\"1\" class=\"dataframe\">\n",
       "  <thead>\n",
       "    <tr style=\"text-align: right;\">\n",
       "      <th>common_name_clean</th>\n",
       "      <th>American Badger</th>\n",
       "      <th>Big Brown Bat</th>\n",
       "      <th>Bighorn Sheep</th>\n",
       "      <th>Brush Rabbit</th>\n",
       "      <th>California Myotis</th>\n",
       "      <th>Carolina Northern Flying Squirrel</th>\n",
       "      <th>Coyote</th>\n",
       "      <th>Eastern Small-Footed Bat</th>\n",
       "      <th>Fringed Myotis</th>\n",
       "      <th>Gray Myotis</th>\n",
       "      <th>...</th>\n",
       "      <th>Pallid Bat</th>\n",
       "      <th>Red Wolf</th>\n",
       "      <th>Ringtail</th>\n",
       "      <th>Sierra Nevada Bighorn Sheep</th>\n",
       "      <th>Sierra Nevada Mountain Beaver</th>\n",
       "      <th>Sierra Nevada Snowshoe Hare</th>\n",
       "      <th>Silver-Haired Bat</th>\n",
       "      <th>Spotted Bat</th>\n",
       "      <th>Western Red Bat</th>\n",
       "      <th>Yuma Myotis</th>\n",
       "    </tr>\n",
       "    <tr>\n",
       "      <th>park_name</th>\n",
       "      <th></th>\n",
       "      <th></th>\n",
       "      <th></th>\n",
       "      <th></th>\n",
       "      <th></th>\n",
       "      <th></th>\n",
       "      <th></th>\n",
       "      <th></th>\n",
       "      <th></th>\n",
       "      <th></th>\n",
       "      <th></th>\n",
       "      <th></th>\n",
       "      <th></th>\n",
       "      <th></th>\n",
       "      <th></th>\n",
       "      <th></th>\n",
       "      <th></th>\n",
       "      <th></th>\n",
       "      <th></th>\n",
       "      <th></th>\n",
       "      <th></th>\n",
       "    </tr>\n",
       "  </thead>\n",
       "  <tbody>\n",
       "    <tr>\n",
       "      <th>Bryce National Park</th>\n",
       "      <td>159</td>\n",
       "      <td>184</td>\n",
       "      <td>109</td>\n",
       "      <td>118</td>\n",
       "      <td>237</td>\n",
       "      <td>29</td>\n",
       "      <td>85</td>\n",
       "      <td>84</td>\n",
       "      <td>109</td>\n",
       "      <td>27</td>\n",
       "      <td>...</td>\n",
       "      <td>67</td>\n",
       "      <td>30</td>\n",
       "      <td>96</td>\n",
       "      <td>22</td>\n",
       "      <td>78</td>\n",
       "      <td>75</td>\n",
       "      <td>228</td>\n",
       "      <td>74</td>\n",
       "      <td>113</td>\n",
       "      <td>86</td>\n",
       "    </tr>\n",
       "    <tr>\n",
       "      <th>Great Smoky Mountains National Park</th>\n",
       "      <td>137</td>\n",
       "      <td>146</td>\n",
       "      <td>48</td>\n",
       "      <td>27</td>\n",
       "      <td>159</td>\n",
       "      <td>21</td>\n",
       "      <td>68</td>\n",
       "      <td>49</td>\n",
       "      <td>75</td>\n",
       "      <td>26</td>\n",
       "      <td>...</td>\n",
       "      <td>61</td>\n",
       "      <td>13</td>\n",
       "      <td>76</td>\n",
       "      <td>25</td>\n",
       "      <td>57</td>\n",
       "      <td>70</td>\n",
       "      <td>75</td>\n",
       "      <td>94</td>\n",
       "      <td>70</td>\n",
       "      <td>83</td>\n",
       "    </tr>\n",
       "    <tr>\n",
       "      <th>Yellowstone National Park</th>\n",
       "      <td>449</td>\n",
       "      <td>463</td>\n",
       "      <td>219</td>\n",
       "      <td>227</td>\n",
       "      <td>430</td>\n",
       "      <td>67</td>\n",
       "      <td>206</td>\n",
       "      <td>233</td>\n",
       "      <td>215</td>\n",
       "      <td>68</td>\n",
       "      <td>...</td>\n",
       "      <td>244</td>\n",
       "      <td>60</td>\n",
       "      <td>214</td>\n",
       "      <td>67</td>\n",
       "      <td>251</td>\n",
       "      <td>233</td>\n",
       "      <td>450</td>\n",
       "      <td>225</td>\n",
       "      <td>221</td>\n",
       "      <td>200</td>\n",
       "    </tr>\n",
       "    <tr>\n",
       "      <th>Yosemite National Park</th>\n",
       "      <td>255</td>\n",
       "      <td>254</td>\n",
       "      <td>117</td>\n",
       "      <td>147</td>\n",
       "      <td>281</td>\n",
       "      <td>36</td>\n",
       "      <td>99</td>\n",
       "      <td>132</td>\n",
       "      <td>116</td>\n",
       "      <td>39</td>\n",
       "      <td>...</td>\n",
       "      <td>134</td>\n",
       "      <td>34</td>\n",
       "      <td>134</td>\n",
       "      <td>39</td>\n",
       "      <td>151</td>\n",
       "      <td>117</td>\n",
       "      <td>266</td>\n",
       "      <td>111</td>\n",
       "      <td>123</td>\n",
       "      <td>169</td>\n",
       "    </tr>\n",
       "  </tbody>\n",
       "</table>\n",
       "<p>4 rows × 30 columns</p>\n",
       "</div>"
      ],
      "text/plain": [
       "common_name_clean                    American Badger  Big Brown Bat  \\\n",
       "park_name                                                             \n",
       "Bryce National Park                              159            184   \n",
       "Great Smoky Mountains National Park              137            146   \n",
       "Yellowstone National Park                        449            463   \n",
       "Yosemite National Park                           255            254   \n",
       "\n",
       "common_name_clean                    Bighorn Sheep  Brush Rabbit  \\\n",
       "park_name                                                          \n",
       "Bryce National Park                            109           118   \n",
       "Great Smoky Mountains National Park             48            27   \n",
       "Yellowstone National Park                      219           227   \n",
       "Yosemite National Park                         117           147   \n",
       "\n",
       "common_name_clean                    California Myotis  \\\n",
       "park_name                                                \n",
       "Bryce National Park                                237   \n",
       "Great Smoky Mountains National Park                159   \n",
       "Yellowstone National Park                          430   \n",
       "Yosemite National Park                             281   \n",
       "\n",
       "common_name_clean                    Carolina Northern Flying Squirrel  \\\n",
       "park_name                                                                \n",
       "Bryce National Park                                                 29   \n",
       "Great Smoky Mountains National Park                                 21   \n",
       "Yellowstone National Park                                           67   \n",
       "Yosemite National Park                                              36   \n",
       "\n",
       "common_name_clean                    Coyote  Eastern Small-Footed Bat  \\\n",
       "park_name                                                               \n",
       "Bryce National Park                      85                        84   \n",
       "Great Smoky Mountains National Park      68                        49   \n",
       "Yellowstone National Park               206                       233   \n",
       "Yosemite National Park                   99                       132   \n",
       "\n",
       "common_name_clean                    Fringed Myotis  Gray Myotis  ...  \\\n",
       "park_name                                                         ...   \n",
       "Bryce National Park                             109           27  ...   \n",
       "Great Smoky Mountains National Park              75           26  ...   \n",
       "Yellowstone National Park                       215           68  ...   \n",
       "Yosemite National Park                          116           39  ...   \n",
       "\n",
       "common_name_clean                    Pallid Bat  Red Wolf  Ringtail  \\\n",
       "park_name                                                             \n",
       "Bryce National Park                          67        30        96   \n",
       "Great Smoky Mountains National Park          61        13        76   \n",
       "Yellowstone National Park                   244        60       214   \n",
       "Yosemite National Park                      134        34       134   \n",
       "\n",
       "common_name_clean                    Sierra Nevada Bighorn Sheep  \\\n",
       "park_name                                                          \n",
       "Bryce National Park                                           22   \n",
       "Great Smoky Mountains National Park                           25   \n",
       "Yellowstone National Park                                     67   \n",
       "Yosemite National Park                                        39   \n",
       "\n",
       "common_name_clean                    Sierra Nevada Mountain Beaver  \\\n",
       "park_name                                                            \n",
       "Bryce National Park                                             78   \n",
       "Great Smoky Mountains National Park                             57   \n",
       "Yellowstone National Park                                      251   \n",
       "Yosemite National Park                                         151   \n",
       "\n",
       "common_name_clean                    Sierra Nevada Snowshoe Hare  \\\n",
       "park_name                                                          \n",
       "Bryce National Park                                           75   \n",
       "Great Smoky Mountains National Park                           70   \n",
       "Yellowstone National Park                                    233   \n",
       "Yosemite National Park                                       117   \n",
       "\n",
       "common_name_clean                    Silver-Haired Bat  Spotted Bat  \\\n",
       "park_name                                                             \n",
       "Bryce National Park                                228           74   \n",
       "Great Smoky Mountains National Park                 75           94   \n",
       "Yellowstone National Park                          450          225   \n",
       "Yosemite National Park                             266          111   \n",
       "\n",
       "common_name_clean                    Western Red Bat  Yuma Myotis  \n",
       "park_name                                                          \n",
       "Bryce National Park                              113           86  \n",
       "Great Smoky Mountains National Park               70           83  \n",
       "Yellowstone National Park                        221          200  \n",
       "Yosemite National Park                           123          169  \n",
       "\n",
       "[4 rows x 30 columns]"
      ]
     },
     "execution_count": 59,
     "metadata": {},
     "output_type": "execute_result"
    }
   ],
   "source": [
    "mammal_heat = mammal_grouped.pivot_table('observations', index = 'park_name', columns='common_name_clean')\n",
    "mammal_heat.head()"
   ]
  },
  {
   "cell_type": "code",
   "execution_count": 82,
   "metadata": {
    "scrolled": true
   },
   "outputs": [
    {
     "data": {
      "text/plain": [
       "[Text(0, 0.5, 'Bryce National Park'),\n",
       " Text(0, 1.5, 'Great Smoky Mountains National Park'),\n",
       " Text(0, 2.5, 'Yellowstone National Park'),\n",
       " Text(0, 3.5, 'Yosemite National Park')]"
      ]
     },
     "execution_count": 82,
     "metadata": {},
     "output_type": "execute_result"
    },
    {
     "data": {
      "image/png": "[encoded data removed]",
      "text/plain": [
       "<Figure size 1296x216 with 2 Axes>"
      ]
     },
     "metadata": {
      "needs_background": "light"
     },
     "output_type": "display_data"
    }
   ],
   "source": [
    "f, ax = plt.subplots(figsize = (18, 3))\n",
    "ax=sns.heatmap(mammal_heat, cmap = 'rocket')\n",
    "ax.set_xlabel('')\n",
    "ax.set_ylabel('')\n",
    "ax.set_title(\"Mammal Observations in Last Seven Days in National Parks \")\n",
    "ax.set_xticklabels(ax.get_xticklabels(), rotation = 30, horizontalalignment='right')\n",
    "ax.set_yticklabels(ax.get_yticklabels(), fontsize='large')"
   ]
  },
  {
   "cell_type": "code",
   "execution_count": 61,
   "metadata": {},
   "outputs": [
    {
     "data": {
      "text/plain": [
       "(316, 4)"
      ]
     },
     "execution_count": 61,
     "metadata": {},
     "output_type": "execute_result"
    }
   ],
   "source": [
    "bird_park =ob_sp[(ob_sp['category']=='Bird') & (ob_sp['is_protected']==True)][['scientific_name', 'common_name_clean', 'park_name', 'observations']]\n",
    "bird_park.shape"
   ]
  },
  {
   "cell_type": "code",
   "execution_count": 67,
   "metadata": {},
   "outputs": [
    {
     "data": {
      "text/html": [
       "<div>\n",
       "<style scoped>\n",
       "    .dataframe tbody tr th:only-of-type {\n",
       "        vertical-align: middle;\n",
       "    }\n",
       "\n",
       "    .dataframe tbody tr th {\n",
       "        vertical-align: top;\n",
       "    }\n",
       "\n",
       "    .dataframe thead th {\n",
       "        text-align: right;\n",
       "    }\n",
       "</style>\n",
       "<table border=\"1\" class=\"dataframe\">\n",
       "  <thead>\n",
       "    <tr style=\"text-align: right;\">\n",
       "      <th>park_name</th>\n",
       "      <th>Bryce National Park</th>\n",
       "      <th>Great Smoky Mountains National Park</th>\n",
       "      <th>Yellowstone National Park</th>\n",
       "      <th>Yosemite National Park</th>\n",
       "    </tr>\n",
       "    <tr>\n",
       "      <th>common_name_clean</th>\n",
       "      <th></th>\n",
       "      <th></th>\n",
       "      <th></th>\n",
       "      <th></th>\n",
       "    </tr>\n",
       "  </thead>\n",
       "  <tbody>\n",
       "    <tr>\n",
       "      <th>American Bittern</th>\n",
       "      <td>74</td>\n",
       "      <td>94</td>\n",
       "      <td>225</td>\n",
       "      <td>120</td>\n",
       "    </tr>\n",
       "    <tr>\n",
       "      <th>American Peregrine Falcon</th>\n",
       "      <td>72</td>\n",
       "      <td>70</td>\n",
       "      <td>176</td>\n",
       "      <td>152</td>\n",
       "    </tr>\n",
       "    <tr>\n",
       "      <th>American Swallow-Tailed Kite</th>\n",
       "      <td>94</td>\n",
       "      <td>26</td>\n",
       "      <td>229</td>\n",
       "      <td>119</td>\n",
       "    </tr>\n",
       "    <tr>\n",
       "      <th>American White Pelican</th>\n",
       "      <td>96</td>\n",
       "      <td>93</td>\n",
       "      <td>246</td>\n",
       "      <td>134</td>\n",
       "    </tr>\n",
       "    <tr>\n",
       "      <th>Appalachian Bewick's Wren</th>\n",
       "      <td>106</td>\n",
       "      <td>86</td>\n",
       "      <td>206</td>\n",
       "      <td>139</td>\n",
       "    </tr>\n",
       "    <tr>\n",
       "      <th>...</th>\n",
       "      <td>...</td>\n",
       "      <td>...</td>\n",
       "      <td>...</td>\n",
       "      <td>...</td>\n",
       "    </tr>\n",
       "    <tr>\n",
       "      <th>Wilson's Warbler</th>\n",
       "      <td>108</td>\n",
       "      <td>68</td>\n",
       "      <td>205</td>\n",
       "      <td>118</td>\n",
       "    </tr>\n",
       "    <tr>\n",
       "      <th>Yellow Rail</th>\n",
       "      <td>87</td>\n",
       "      <td>18</td>\n",
       "      <td>204</td>\n",
       "      <td>143</td>\n",
       "    </tr>\n",
       "    <tr>\n",
       "      <th>Yellow-Bellied Sapsucker</th>\n",
       "      <td>105</td>\n",
       "      <td>34</td>\n",
       "      <td>208</td>\n",
       "      <td>159</td>\n",
       "    </tr>\n",
       "    <tr>\n",
       "      <th>Yellow-Billed Magpie</th>\n",
       "      <td>128</td>\n",
       "      <td>83</td>\n",
       "      <td>207</td>\n",
       "      <td>117</td>\n",
       "    </tr>\n",
       "    <tr>\n",
       "      <th>Yellow-Breasted Chat</th>\n",
       "      <td>80</td>\n",
       "      <td>69</td>\n",
       "      <td>193</td>\n",
       "      <td>114</td>\n",
       "    </tr>\n",
       "  </tbody>\n",
       "</table>\n",
       "<p>75 rows × 4 columns</p>\n",
       "</div>"
      ],
      "text/plain": [
       "park_name                     Bryce National Park  \\\n",
       "common_name_clean                                   \n",
       "American Bittern                               74   \n",
       "American Peregrine Falcon                      72   \n",
       "American Swallow-Tailed Kite                   94   \n",
       "American White Pelican                         96   \n",
       "Appalachian Bewick's Wren                     106   \n",
       "...                                           ...   \n",
       "Wilson's Warbler                              108   \n",
       "Yellow Rail                                    87   \n",
       "Yellow-Bellied Sapsucker                      105   \n",
       "Yellow-Billed Magpie                          128   \n",
       "Yellow-Breasted Chat                           80   \n",
       "\n",
       "park_name                     Great Smoky Mountains National Park  \\\n",
       "common_name_clean                                                   \n",
       "American Bittern                                               94   \n",
       "American Peregrine Falcon                                      70   \n",
       "American Swallow-Tailed Kite                                   26   \n",
       "American White Pelican                                         93   \n",
       "Appalachian Bewick's Wren                                      86   \n",
       "...                                                           ...   \n",
       "Wilson's Warbler                                               68   \n",
       "Yellow Rail                                                    18   \n",
       "Yellow-Bellied Sapsucker                                       34   \n",
       "Yellow-Billed Magpie                                           83   \n",
       "Yellow-Breasted Chat                                           69   \n",
       "\n",
       "park_name                     Yellowstone National Park  \\\n",
       "common_name_clean                                         \n",
       "American Bittern                                    225   \n",
       "American Peregrine Falcon                           176   \n",
       "American Swallow-Tailed Kite                        229   \n",
       "American White Pelican                              246   \n",
       "Appalachian Bewick's Wren                           206   \n",
       "...                                                 ...   \n",
       "Wilson's Warbler                                    205   \n",
       "Yellow Rail                                         204   \n",
       "Yellow-Bellied Sapsucker                            208   \n",
       "Yellow-Billed Magpie                                207   \n",
       "Yellow-Breasted Chat                                193   \n",
       "\n",
       "park_name                     Yosemite National Park  \n",
       "common_name_clean                                     \n",
       "American Bittern                                 120  \n",
       "American Peregrine Falcon                        152  \n",
       "American Swallow-Tailed Kite                     119  \n",
       "American White Pelican                           134  \n",
       "Appalachian Bewick's Wren                        139  \n",
       "...                                              ...  \n",
       "Wilson's Warbler                                 118  \n",
       "Yellow Rail                                      143  \n",
       "Yellow-Bellied Sapsucker                         159  \n",
       "Yellow-Billed Magpie                             117  \n",
       "Yellow-Breasted Chat                             114  \n",
       "\n",
       "[75 rows x 4 columns]"
      ]
     },
     "execution_count": 67,
     "metadata": {},
     "output_type": "execute_result"
    }
   ],
   "source": [
    "bird_grouped=bird_park.groupby(['scientific_name', 'common_name_clean', 'park_name']).observations.sum().reset_index()\n",
    "bird_heatmap=bird_grouped.pivot_table('observations', index='common_name_clean', columns='park_name')\n",
    "bird_heatmap"
   ]
  },
  {
   "cell_type": "code",
   "execution_count": 85,
   "metadata": {},
   "outputs": [
    {
     "data": {
      "text/plain": [
       "[Text(0.5, 0, 'Bryce National Park'),\n",
       " Text(1.5, 0, 'Great Smoky Mountains National Park'),\n",
       " Text(2.5, 0, 'Yellowstone National Park'),\n",
       " Text(3.5, 0, 'Yosemite National Park')]"
      ]
     },
     "execution_count": 85,
     "metadata": {},
     "output_type": "execute_result"
    },
    {
     "data": {
      "image/png": "[encoded data removed]",
      "text/plain": [
       "<Figure size 288x1296 with 2 Axes>"
      ]
     },
     "metadata": {
      "needs_background": "light"
     },
     "output_type": "display_data"
    }
   ],
   "source": [
    "f, ax = plt.subplots(figsize=(4, 18))\n",
    "ax=sns.heatmap(bird_heatmap, cmap = 'YlGnBu')\n",
    "ax.set_xlabel('')\n",
    "ax.set_ylabel('')\n",
    "ax.set_title('Bird Observations in Last Seven Days in National Parks')\n",
    "ax.set_xticklabels(ax.get_xticklabels(), rotation = 45, horizontalalignment='right', fontsize='large')\n",
    "\n"
   ]
  },
  {
   "cell_type": "markdown",
   "metadata": {},
   "source": [
    "**Conclusions**\n",
    "\n",
    "From the sample of protected species: \n",
    "    - Mammals Birds and Vascular plants have biggest number of Species under Concern \n",
    "    - There are endangered species for each category except for Reptiles \n",
    "    - Species in recovery belong to category of mammals and birds \n",
    "    - Number of species in concern is significantly higher than number of species which are either threatened, \n",
    "      in recovery or endangered \n",
    "\n",
    "Ananlysis of protected and not protected species per category shows that mammals(17%) and birds(15,3%) have the biggest share of protected species. \n",
    "\n",
    "Further analysis of these two species, focused on observations in last 7 days in national parks. According to the pie chart and heatmaps , findings could be sumarized as follows : \n",
    " - Yellowstone National Park has biggest portion of protected species\n",
    " - In mammal category the largest number of observations have : American Bagger, Big Brown Bat, California Myotis, \n",
    "Little Brown Bat and Silver-Haired Bat. The smallest number of observation have : California Northern Flying Squirrel, Gray Myotis, Indiana Bat, Red Wolf and Sierra Nevada Bighorn Sheep. \n",
    " - In bird category the largest number of observations have : Bank Swallow, Black-Crowned Night Heron, Common Loon, Osprey \n",
    " - The rarest birds seen in last seven days are : Batchman's Warbier, California Condor, Red-Cockaded Woodpecker, Wooping Crane\n",
    "    \n"
   ]
  }
 ],
 "metadata": {
  "kernelspec": {
   "display_name": "Python 3",
   "language": "python",
   "name": "python3"
  },
  "language_info": {
   "codemirror_mode": {
    "name": "ipython",
    "version": 3
   },
   "file_extension": ".py",
   "mimetype": "text/x-python",
   "name": "python",
   "nbconvert_exporter": "python",
   "pygments_lexer": "ipython3",
   "version": "3.8.5"
  }
 },
 "nbformat": 4,
 "nbformat_minor": 4
}
